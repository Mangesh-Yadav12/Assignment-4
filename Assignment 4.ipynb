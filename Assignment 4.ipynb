{
 "cells": [
  {
   "cell_type": "markdown",
   "id": "a4669e12",
   "metadata": {},
   "source": [
    "#### 1.What exactly is [ ]?\n",
    "\n",
    "ANS : The `list` is represent by `[ ]`, or we can call an empty `list`."
   ]
  },
  {
   "cell_type": "markdown",
   "id": "539c701d",
   "metadata": {},
   "source": [
    "#### 2. In a list of values stored in a variable called spam, how would you assign the value ;hello; as the third value? (Assume [2, 4, 6, 8, 10] are in spam.)"
   ]
  },
  {
   "cell_type": "code",
   "execution_count": 2,
   "id": "eb9998fd",
   "metadata": {},
   "outputs": [],
   "source": [
    "spam = [2,4,6,8,10]"
   ]
  },
  {
   "cell_type": "code",
   "execution_count": 6,
   "id": "56dc8a87",
   "metadata": {},
   "outputs": [
    {
     "data": {
      "text/plain": [
       "[2, 4, 'hello', 8, 10]"
      ]
     },
     "execution_count": 6,
     "metadata": {},
     "output_type": "execute_result"
    }
   ],
   "source": [
    "spam [2] = \"hello\"\n",
    "spam"
   ]
  },
  {
   "cell_type": "markdown",
   "id": "d2c6c64d",
   "metadata": {},
   "source": [
    "#### Let's pretend the spam includes the list ['a','b','c',d'] for the next three queries."
   ]
  },
  {
   "cell_type": "markdown",
   "id": "ab84cbfb",
   "metadata": {},
   "source": [
    "#### 3. What is the value of spam[int(int('3'*2)/11)]?\n",
    "\n",
    "ANS : 'd' (Note that '3' * 2 is the string '33', which is passed to int() before being divided by 11. This eventually evaluates to 3, spam[3] is equal to d.)"
   ]
  },
  {
   "cell_type": "code",
   "execution_count": 1,
   "id": "8fbc720c",
   "metadata": {},
   "outputs": [
    {
     "name": "stdout",
     "output_type": "stream",
     "text": [
      "spam[int(int('3'*2)//11)] -> d\n"
     ]
    }
   ],
   "source": [
    "spam = ['a','b','c','d']\n",
    "print(\"spam[int(int('3'*2)//11)] ->\",spam[int(int('3'*2)//11)])"
   ]
  },
  {
   "cell_type": "markdown",
   "id": "45f373cc",
   "metadata": {},
   "source": [
    "#### 4. What is the value of spam[-1]?\n",
    "\n",
    "ANS : `d` This is a negative indexing so the value is `d`."
   ]
  },
  {
   "cell_type": "code",
   "execution_count": 2,
   "id": "e72f4a4d",
   "metadata": {},
   "outputs": [
    {
     "data": {
      "text/plain": [
       "'d'"
      ]
     },
     "execution_count": 2,
     "metadata": {},
     "output_type": "execute_result"
    }
   ],
   "source": [
    "spam[-1]"
   ]
  },
  {
   "cell_type": "markdown",
   "id": "25971b8f",
   "metadata": {},
   "source": [
    "#### 5. What is the value of spam[:2]?\n",
    "\n",
    "ANS : [`\"a\",\"b\"`] it will take 0, 1 place values."
   ]
  },
  {
   "cell_type": "code",
   "execution_count": 3,
   "id": "42fdac19",
   "metadata": {},
   "outputs": [
    {
     "data": {
      "text/plain": [
       "['a', 'b']"
      ]
     },
     "execution_count": 3,
     "metadata": {},
     "output_type": "execute_result"
    }
   ],
   "source": [
    "spam[:2]"
   ]
  },
  {
   "cell_type": "markdown",
   "id": "436f6eb4",
   "metadata": {},
   "source": [
    "#### Let's pretend bacon has the list [3.14, cat, 11, cat, True] for the next three questions."
   ]
  },
  {
   "cell_type": "markdown",
   "id": "e670bd81",
   "metadata": {},
   "source": [
    "#### 6. What is the value of bacon.index(cat)?\n",
    "\n",
    "Ans: The value of bacon.index('cat') is `1` (Note: index method returns the index of first occuerence of `'cat'`)"
   ]
  },
  {
   "cell_type": "code",
   "execution_count": 4,
   "id": "4712fa02",
   "metadata": {},
   "outputs": [
    {
     "name": "stdout",
     "output_type": "stream",
     "text": [
      "bacon.index('cat') ->  1\n"
     ]
    }
   ],
   "source": [
    "bacon=[3.14,\"cat\",11,\"cat\",True]\n",
    "print(\"bacon.index('cat') -> \", bacon.index('cat'))"
   ]
  },
  {
   "cell_type": "markdown",
   "id": "55961a83",
   "metadata": {},
   "source": [
    "#### 7. How does bacon.append(99) change the look of the list value in bacon?\n",
    "\n",
    "ANS : Append method add the new values in `end` of the `list`."
   ]
  },
  {
   "cell_type": "code",
   "execution_count": 5,
   "id": "f06d98fe",
   "metadata": {},
   "outputs": [
    {
     "name": "stdout",
     "output_type": "stream",
     "text": [
      "[3.14, 'cat', 11, 'cat', True]\n"
     ]
    }
   ],
   "source": [
    "print(bacon)"
   ]
  },
  {
   "cell_type": "code",
   "execution_count": 6,
   "id": "0e8c1130",
   "metadata": {},
   "outputs": [
    {
     "name": "stdout",
     "output_type": "stream",
     "text": [
      "[3.14, 'cat', 11, 'cat', True, 99]\n"
     ]
    }
   ],
   "source": [
    "bacon.append(99)\n",
    "print(bacon)"
   ]
  },
  {
   "cell_type": "markdown",
   "id": "a60a47a9",
   "metadata": {},
   "source": [
    "#### 8. How does bacon.remove('cat') change the look of the list in bacon?\n",
    "\n",
    "ANS : The `remove` method removes the first occurence of the element in the list"
   ]
  },
  {
   "cell_type": "code",
   "execution_count": 7,
   "id": "21202cee",
   "metadata": {},
   "outputs": [
    {
     "name": "stdout",
     "output_type": "stream",
     "text": [
      "[3.14, 'cat', 11, 'cat', True, 99]\n"
     ]
    }
   ],
   "source": [
    "print(bacon)"
   ]
  },
  {
   "cell_type": "code",
   "execution_count": 8,
   "id": "28dd2e57",
   "metadata": {},
   "outputs": [
    {
     "name": "stdout",
     "output_type": "stream",
     "text": [
      "[3.14, 11, 'cat', True, 99]\n"
     ]
    }
   ],
   "source": [
    "bacon.remove(\"cat\")\n",
    "print(bacon)"
   ]
  },
  {
   "cell_type": "markdown",
   "id": "2a5a007e",
   "metadata": {},
   "source": [
    "#### 9. What are the list concatenation and list replication operators?\n",
    "\n",
    "ANS : For concatenation we use` +` and for replication use `*`."
   ]
  },
  {
   "cell_type": "code",
   "execution_count": 12,
   "id": "6165c275",
   "metadata": {},
   "outputs": [
    {
     "name": "stdout",
     "output_type": "stream",
     "text": [
      "['i', 'n', 'e', 'u', 'r', 'o', 'n']\n",
      "['r', 'o', 'n', 'r', 'o', 'n']\n"
     ]
    }
   ],
   "source": [
    "list1 = [\"i\",\"n\",\"e\",\"u\"]\n",
    "list2 = [\"r\",\"o\",\"n\"]\n",
    "print(list1+list2) #--> #concatenation\n",
    "print(list2*2)# --> list replication"
   ]
  },
  {
   "cell_type": "markdown",
   "id": "b10bd66a",
   "metadata": {},
   "source": [
    "#### 10. What is difference between the list methods append() and insert()?\n",
    "\n",
    "ANS : `Append` function wil add the value in `last` of the list while `insert` function will add the vaule where you want but you specifiy the place."
   ]
  },
  {
   "cell_type": "code",
   "execution_count": 30,
   "id": "c4976ae4",
   "metadata": {},
   "outputs": [],
   "source": [
    "#Example\n",
    "list3 = [2,3,4,5]"
   ]
  },
  {
   "cell_type": "code",
   "execution_count": 19,
   "id": "dd2e798c",
   "metadata": {},
   "outputs": [],
   "source": [
    "list3.append(6)"
   ]
  },
  {
   "cell_type": "code",
   "execution_count": 20,
   "id": "ab0600cb",
   "metadata": {},
   "outputs": [
    {
     "name": "stdout",
     "output_type": "stream",
     "text": [
      "[2, '1', 3, 4, 5, 6]\n"
     ]
    }
   ],
   "source": [
    "list3.insert(1,\"1\")\n",
    "print(list3)"
   ]
  },
  {
   "cell_type": "markdown",
   "id": "d94e5c58",
   "metadata": {},
   "source": [
    "#### 11. What are the two methods for removing items from a list?\n",
    "\n",
    "ANS : Then two for removing items from list are `del` and `remove`."
   ]
  },
  {
   "cell_type": "code",
   "execution_count": 33,
   "id": "7de12a63",
   "metadata": {},
   "outputs": [
    {
     "name": "stdout",
     "output_type": "stream",
     "text": [
      "[1, 2, 3, 4, 5, 6]\n",
      "[1, 3, 4, 5, 6]\n"
     ]
    }
   ],
   "source": [
    "#Examples\n",
    "\n",
    "list4=[1,2,3,4,5,6]\n",
    "print(list4)\n",
    "del list4[1]\n",
    "print(list4)"
   ]
  },
  {
   "cell_type": "code",
   "execution_count": 34,
   "id": "c7550e6e",
   "metadata": {},
   "outputs": [],
   "source": [
    "list4.remove(5)\n"
   ]
  },
  {
   "cell_type": "code",
   "execution_count": 35,
   "id": "917b7d6e",
   "metadata": {},
   "outputs": [
    {
     "name": "stdout",
     "output_type": "stream",
     "text": [
      "[1, 3, 4, 6]\n"
     ]
    }
   ],
   "source": [
    "print(list4)"
   ]
  },
  {
   "cell_type": "markdown",
   "id": "e9aafa90",
   "metadata": {},
   "source": [
    "#### 12. Describe how list values and string values are identical.\n",
    "\n",
    "ANS :  Both lists and strings can be passed to len() function, have indexes and slices, be used in for loops, be concatenated or replicated, and be used with the in and not in operators."
   ]
  },
  {
   "cell_type": "markdown",
   "id": "6a4f0ea8",
   "metadata": {},
   "source": [
    "#### 13. What's the difference between tuples and lists?\n",
    "Ans: Lists are Mutable, Indexable and Slicable. they can have values added, removed, or changed. Tuples are Immutable but Indexable and Slicable. the tuple values cannot be changed at all. Also, tuples are represented using parentheses, (), while lists use the square brackets, []."
   ]
  },
  {
   "cell_type": "markdown",
   "id": "d502cc09",
   "metadata": {},
   "source": [
    "#### 14. How do you type a tuple value that only contains the integer 42?\n",
    "Ans:(42,) (The trailing comma is mandatory. otherwise its considered as a int by python Interpreter)"
   ]
  },
  {
   "cell_type": "code",
   "execution_count": 36,
   "id": "c528b34e",
   "metadata": {},
   "outputs": [
    {
     "name": "stdout",
     "output_type": "stream",
     "text": [
      "<class 'int'>\n",
      "<class 'tuple'>\n"
     ]
    }
   ],
   "source": [
    "tupl=(24)\n",
    "tupl1=(24,)\n",
    "print(type(tupl))\n",
    "print(type(tupl1))"
   ]
  },
  {
   "cell_type": "markdown",
   "id": "32a9265c",
   "metadata": {},
   "source": [
    "#### 15. How do you get a list value's tuple form? How do you get a tuple value's list form?\n",
    "Ans: The tuple() and list() functions, respectively are used to convert a list to tuple and vice versa"
   ]
  },
  {
   "cell_type": "markdown",
   "id": "2ee905b5",
   "metadata": {},
   "source": [
    "#### 16. Variables that \"contain\" list values are not necessarily lists themselves. Instead, what do they contain?\n",
    "Ans: They contain references to list values."
   ]
  },
  {
   "cell_type": "markdown",
   "id": "794beb1b",
   "metadata": {},
   "source": [
    "#### 17. How do you distinguish between copy.copy() and copy.deepcopy()?\n",
    "Ans: The copy.copy() function will do a shallow copy of a list, while the copy.deepcopy() function will do a deep copy of a list. That is, only copy.deepcopy() will duplicate any lists inside the list."
   ]
  },
  {
   "cell_type": "code",
   "execution_count": null,
   "id": "68ccf8a3",
   "metadata": {},
   "outputs": [],
   "source": []
  }
 ],
 "metadata": {
  "kernelspec": {
   "display_name": "Python 3",
   "language": "python",
   "name": "python3"
  },
  "language_info": {
   "codemirror_mode": {
    "name": "ipython",
    "version": 3
   },
   "file_extension": ".py",
   "mimetype": "text/x-python",
   "name": "python",
   "nbconvert_exporter": "python",
   "pygments_lexer": "ipython3",
   "version": "3.8.8"
  }
 },
 "nbformat": 4,
 "nbformat_minor": 5
}
